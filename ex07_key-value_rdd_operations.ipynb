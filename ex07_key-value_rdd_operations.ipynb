{
 "cells": [
  {
   "cell_type": "code",
   "execution_count": null,
   "metadata": {
    "tags": []
   },
   "outputs": [],
   "source": [
    "# [+] PySpark 임포트 및 설정\n",
    "from pyspark import SparkConf, SparkContext\n",
    "conf = SparkContext()\n",
    "sc = SparkConf(conf=conf)"
   ]
  },
  {
   "cell_type": "markdown",
   "metadata": {},
   "source": [
    "### groupBy(): 입력 함수를 기준으로 그룹핑"
   ]
  },
  {
   "cell_type": "code",
   "execution_count": 32,
   "metadata": {
    "tags": []
   },
   "outputs": [],
   "source": [
    "# [+] 리스트로부터 rdd 생성 [1, 1, 2, 3, 5, 8]\n",
    "rdd = sc.parallelize([1, 1, 2, 3, 5, 8])"
   ]
  },
  {
   "cell_type": "code",
   "execution_count": 33,
   "metadata": {
    "tags": []
   },
   "outputs": [],
   "source": [
    "# [+] groupBy()를 이용한 홀수/짝수 그룹핑 -> groups\n",
    "groups = rdd.groupby(lambda x: x % 2)"
   ]
  },
  {
   "cell_type": "code",
   "execution_count": 34,
   "metadata": {},
   "outputs": [],
   "source": [
    "# [+] 그룹핑 결과를 리스트로 반환 -> res\n",
    "res = groups.collect()"
   ]
  },
  {
   "cell_type": "code",
   "execution_count": 35,
   "metadata": {
    "tags": []
   },
   "outputs": [
    {
     "name": "stdout",
     "output_type": "stream",
     "text": [
      "1 [1, 1, 3, 5]\n",
      "0 [2, 8]\n"
     ]
    }
   ],
   "source": [
    "# [+] 그룹핑 결과(res) 출력\n",
    "for k, v in res:\n",
    "\tprint(k, list(v))"
   ]
  },
  {
   "cell_type": "markdown",
   "metadata": {},
   "source": [
    "### groupByKey(): Key 값을 기준으로 그룹핑"
   ]
  },
  {
   "cell_type": "code",
   "execution_count": 38,
   "metadata": {
    "tags": []
   },
   "outputs": [
    {
     "data": {
      "text/plain": [
       "[('a', 1), ('b', 1), ('a', 1)]"
      ]
     },
     "execution_count": 38,
     "metadata": {},
     "output_type": "execute_result"
    }
   ],
   "source": [
    "# [+] 리스트로부터 key-value rdd 생성 [('a', 1), ('b', 1), ('a', 1)]\n",
    "rdd = sc.parallelize([('a', 1), ('b', 1), ('a', 1)])"
   ]
  },
  {
   "cell_type": "code",
   "execution_count": 39,
   "metadata": {
    "tags": []
   },
   "outputs": [],
   "source": [
    "# [+] groupByKey()를 이용한 그룹핑 및 리스트 반환 -> groups\n",
    "groups = rdd.groupByKey()"
   ]
  },
  {
   "cell_type": "code",
   "execution_count": 40,
   "metadata": {},
   "outputs": [],
   "source": [
    "# [+] 그룹핑 결과를 리스트로 반환 -> res\n",
    "res = groups.collect()"
   ]
  },
  {
   "cell_type": "code",
   "execution_count": 41,
   "metadata": {
    "tags": []
   },
   "outputs": [
    {
     "name": "stdout",
     "output_type": "stream",
     "text": [
      "a [1, 1]\n",
      "b [1]\n"
     ]
    }
   ],
   "source": [
    "# [+]그룹핑 결과(res) 출력\n",
    "for k, v in res:\n",
    "\tprint(k, list(v))"
   ]
  },
  {
   "cell_type": "code",
   "execution_count": 42,
   "metadata": {
    "tags": []
   },
   "outputs": [
    {
     "data": {
      "text/plain": [
       "2"
      ]
     },
     "execution_count": 42,
     "metadata": {},
     "output_type": "execute_result"
    }
   ],
   "source": [
    "# len(): Python 객체의 길이를 리턴\n",
    "value = [1, 1]\n",
    "len(value)"
   ]
  },
  {
   "cell_type": "code",
   "execution_count": 44,
   "metadata": {
    "tags": []
   },
   "outputs": [],
   "source": [
    "# mapValues(), len()을 이용한 값 빈도 계산\n",
    "counts = groups.mapValues(len)"
   ]
  },
  {
   "cell_type": "code",
   "execution_count": 45,
   "metadata": {
    "tags": []
   },
   "outputs": [
    {
     "data": {
      "text/plain": [
       "[('a', 2), ('b', 1)]"
      ]
     },
     "execution_count": 45,
     "metadata": {},
     "output_type": "execute_result"
    }
   ],
   "source": [
    "counts.collect()"
   ]
  },
  {
   "cell_type": "markdown",
   "metadata": {},
   "source": [
    "### groupBy() 예제\n",
    "1. 리스트로부터 RDD 객체 생성\n",
    "    + 리스트: ['C', 'C++', 'Python', 'Java', 'C#']  \n",
    "2. 원소의 첫 번째 문자 값을 기준으로 그룹핑\n",
    "    + 기대 결과:  \n",
    "        J ['Java']  \n",
    "        C ['C', 'C++', 'C#']  \n",
    "        P ['Python']  \n",
    "3. 그룹핑 결과를 리스트 객체로 출력"
   ]
  },
  {
   "cell_type": "code",
   "execution_count": 60,
   "metadata": {},
   "outputs": [],
   "source": [
    "# [+] 리스트로부터 RDD 객체 생성\n",
    "rdd = sc.parallelize(['C', 'C++', 'Python', 'Java', 'C#'])"
   ]
  },
  {
   "cell_type": "code",
   "execution_count": 61,
   "metadata": {},
   "outputs": [],
   "source": [
    "# [+] 원소별 첫 번째 값(x[0])을 기준으로 그룹핑 -> groups\n",
    "groups = rdd.groupBy(lambda x: x[0])"
   ]
  },
  {
   "cell_type": "code",
   "execution_count": 62,
   "metadata": {},
   "outputs": [],
   "source": [
    "# [+] 그룹핑 결과를 리스트로 반환 -> res\n",
    "res = groups.collect()"
   ]
  },
  {
   "cell_type": "code",
   "execution_count": 63,
   "metadata": {},
   "outputs": [
    {
     "name": "stdout",
     "output_type": "stream",
     "text": [
      "C ['C', 'C++', 'C#']\n",
      "P ['Python']\n",
      "J ['Java']\n"
     ]
    }
   ],
   "source": [
    "# [+] 그룹핑 결과(res) 출력\n",
    "for k, v in res:\n",
    "    print(k, list(v))"
   ]
  },
  {
   "cell_type": "markdown",
   "metadata": {},
   "source": [
    "### groupByKey() 예제\n",
    "1. list 객체로부터 3개의 파티션을 갖는 Key-Value RDD 생성하기\n",
    "    + getNumPatitions(): RDD 객체의 파티션 수 출력\n",
    "2. Key 별로 그룹핑\n",
    "3. 그룹핑 결과 리스트로 반환\n",
    "4. 리스트 출력"
   ]
  },
  {
   "cell_type": "code",
   "execution_count": 102,
   "metadata": {},
   "outputs": [],
   "source": [
    "# list 객체로부터 3개의 파티션을 갖는 Key-Value RDD 생성하기\n",
    "\n",
    "rdd = sc.parallelize([  # 과목 별 점수 데이터\n",
    "    ('Math', 7), ('Math', 2), ('English', 7),\n",
    "    ('Science', 7), ('English', 4), ('English', 9),\n",
    "    ('Math', 8), ('Math', 3), ('English', 4),\n",
    "    ('Science', 6), ('Science', 9), ('Science', 5)\n",
    "], 3) # 파티션 수: 3"
   ]
  },
  {
   "cell_type": "code",
   "execution_count": 117,
   "metadata": {
    "scrolled": true
   },
   "outputs": [
    {
     "data": {
      "text/plain": [
       "3"
      ]
     },
     "execution_count": 117,
     "metadata": {},
     "output_type": "execute_result"
    }
   ],
   "source": [
    "# getNumPartitions(): RDD 객체의 파티션 수를 확인하는 액션 메서드\n",
    "rdd.getNumPartitions()"
   ]
  },
  {
   "cell_type": "code",
   "execution_count": 104,
   "metadata": {},
   "outputs": [],
   "source": [
    "# [+] Key 별로 그룹핑 -> groups\n",
    "groups = rdd.groupByKey()"
   ]
  },
  {
   "cell_type": "code",
   "execution_count": 105,
   "metadata": {},
   "outputs": [],
   "source": [
    "# [+] 그룹핑 결과 리스트로 반환 -> res\n",
    "res = groups.collect()"
   ]
  },
  {
   "cell_type": "code",
   "execution_count": 106,
   "metadata": {},
   "outputs": [
    {
     "name": "stdout",
     "output_type": "stream",
     "text": [
      "Science [7, 6, 9, 5]\n",
      "Math [7, 2, 8, 3]\n",
      "English [7, 4, 9, 4]\n"
     ]
    }
   ],
   "source": [
    "# [+] 그룹핑 결과(res) 출력\n",
    "for k, v in res:\n",
    "    print(k, list(v))"
   ]
  },
  {
   "cell_type": "code",
   "execution_count": 114,
   "metadata": {},
   "outputs": [],
   "source": [
    "# key별 그룹핑을 2개의 파티션으로 분리하여 수행 -> groups\n",
    "groups = rdd.groupByKey(2)"
   ]
  },
  {
   "cell_type": "code",
   "execution_count": 116,
   "metadata": {},
   "outputs": [
    {
     "data": {
      "text/plain": [
       "2"
      ]
     },
     "execution_count": 116,
     "metadata": {},
     "output_type": "execute_result"
    }
   ],
   "source": [
    "# [+] 파티션 수 출력\n",
    "groups.getNumPartitions()"
   ]
  },
  {
   "cell_type": "code",
   "execution_count": 109,
   "metadata": {},
   "outputs": [],
   "source": [
    "# 파티션별 RDD 값들을 리스트로 반환\n",
    "res = groups.glom().collect()"
   ]
  },
  {
   "cell_type": "code",
   "execution_count": 110,
   "metadata": {},
   "outputs": [
    {
     "data": {
      "text/plain": [
       "[[('English', <pyspark.resultiterable.ResultIterable at 0x24ea37c7430>),\n",
       "  ('Science', <pyspark.resultiterable.ResultIterable at 0x24ea37cfee0>)],\n",
       " [('Math', <pyspark.resultiterable.ResultIterable at 0x24ea37cfa30>)]]"
      ]
     },
     "execution_count": 110,
     "metadata": {},
     "output_type": "execute_result"
    }
   ],
   "source": [
    "res"
   ]
  },
  {
   "cell_type": "code",
   "execution_count": 112,
   "metadata": {},
   "outputs": [
    {
     "name": "stdout",
     "output_type": "stream",
     "text": [
      "English [7, 4, 9, 4]\n",
      "Science [7, 6, 9, 5]\n"
     ]
    }
   ],
   "source": [
    "# [+] 0번째 파티션에 대한 그룹핑 결과(res)를 출력\n",
    "for k, v in res[0]:\n",
    "    print(k, list(v))"
   ]
  },
  {
   "cell_type": "code",
   "execution_count": 113,
   "metadata": {},
   "outputs": [
    {
     "name": "stdout",
     "output_type": "stream",
     "text": [
      "Math [7, 2, 8, 3]\n"
     ]
    }
   ],
   "source": [
    "# [+] 1번째 파티션에 대한 그룹핑 결과(res)를 출력\n",
    "for k, v in res[1]:\n",
    "    print(k, list(v))"
   ]
  },
  {
   "cell_type": "markdown",
   "metadata": {},
   "source": [
    "### reduce() vs reduceByKey()\n",
    "+ reduce(): 입력 함수를 기준으로 집계를 수행하는 액션 메서드\n",
    "+ reduceByKey(): Key를 기준으로 그룹핑 및 집계를 수행하는 변환 메서드"
   ]
  },
  {
   "cell_type": "code",
   "execution_count": 1,
   "metadata": {},
   "outputs": [
    {
     "ename": "NameError",
     "evalue": "name 'sc' is not defined",
     "output_type": "error",
     "traceback": [
      "\u001b[1;31m---------------------------------------------------------------------------\u001b[0m",
      "\u001b[1;31mNameError\u001b[0m                                 Traceback (most recent call last)",
      "\u001b[1;32m~\\AppData\\Local\\Temp\\ipykernel_11500\\3125070601.py\u001b[0m in \u001b[0;36m<module>\u001b[1;34m\u001b[0m\n\u001b[0;32m      1\u001b[0m \u001b[1;31m# [+] reduce() 를 이용한 총합 구하기\u001b[0m\u001b[1;33m\u001b[0m\u001b[1;33m\u001b[0m\u001b[0m\n\u001b[1;32m----> 2\u001b[1;33m \u001b[0msc\u001b[0m\u001b[1;33m.\u001b[0m\u001b[0mparallelize\u001b[0m\u001b[1;33m(\u001b[0m\u001b[1;33m[\u001b[0m\u001b[1;36m1\u001b[0m\u001b[1;33m,\u001b[0m \u001b[1;36m2\u001b[0m\u001b[1;33m,\u001b[0m \u001b[1;36m3\u001b[0m\u001b[1;33m,\u001b[0m \u001b[1;36m4\u001b[0m\u001b[1;33m,\u001b[0m \u001b[1;36m5\u001b[0m\u001b[1;33m]\u001b[0m\u001b[1;33m)\u001b[0m\u001b[1;33m.\u001b[0m\u001b[0mreduce\u001b[0m\u001b[1;33m(\u001b[0m\u001b[1;32mlambda\u001b[0m \u001b[0mx\u001b[0m\u001b[1;33m,\u001b[0m \u001b[0my\u001b[0m\u001b[1;33m:\u001b[0m \u001b[0mx\u001b[0m \u001b[1;33m+\u001b[0m \u001b[0my\u001b[0m\u001b[1;33m)\u001b[0m\u001b[1;33m\u001b[0m\u001b[1;33m\u001b[0m\u001b[0m\n\u001b[0m",
      "\u001b[1;31mNameError\u001b[0m: name 'sc' is not defined"
     ]
    }
   ],
   "source": [
    "# [+] reduce() 를 이용한 총합 구하기\n",
    "sc.parallelize([1, 2, 3, 4, 5]).reduce(lambda x, y: x + y)"
   ]
  },
  {
   "cell_type": "code",
   "execution_count": 123,
   "metadata": {},
   "outputs": [],
   "source": [
    "# [+] 리스트로부터 K-V RDD 생성 -> rdd\n",
    "rdd = sc.parallelize([('a', 1), ('a', 4), ('a', 3), ('b', 2), ('b', 9)])"
   ]
  },
  {
   "cell_type": "code",
   "execution_count": 124,
   "metadata": {},
   "outputs": [
    {
     "data": {
      "text/plain": [
       "[('a', 2), ('b', 1)]"
      ]
     },
     "execution_count": 124,
     "metadata": {},
     "output_type": "execute_result"
    }
   ],
   "source": [
    "# [+] reduceByKey()를 이용한 Key별 총합 계산 및 리스트로 반환\n",
    "rdd.reduceByKey(lambda x, y : x + y).collect()"
   ]
  },
  {
   "cell_type": "code",
   "execution_count": 125,
   "metadata": {},
   "outputs": [],
   "source": [
    "# 과목 별 점수 데이터\n",
    "rdd = sc.parallelize([\n",
    "    ('Math', 7), ('Math', 2), ('English', 7),\n",
    "    ('Science', 7), ('English', 4), ('English', 9),\n",
    "    ('Math', 8), ('Math', 3), ('English', 4),\n",
    "    ('Science', 6), ('Science', 9), ('Science', 5)\n",
    "], 3)"
   ]
  },
  {
   "cell_type": "code",
   "execution_count": 126,
   "metadata": {},
   "outputs": [
    {
     "data": {
      "text/plain": [
       "[('Science', 27), ('Math', 20), ('English', 24)]"
      ]
     },
     "execution_count": 126,
     "metadata": {},
     "output_type": "execute_result"
    }
   ],
   "source": [
    "# [+] reduceByKey() 를 이용한 과목 별 점수 총합 구하기\n",
    "rdd.reduceByKey(lambda x, y : x + y).collect()"
   ]
  },
  {
   "cell_type": "code",
   "execution_count": 2,
   "metadata": {},
   "outputs": [],
   "source": [
    "# [++] 과목별 점수 평균 구하기\n",
    "# map()함수를 쓰게되면 key, value로 묶이기 때문에 무조건 mapValues()를 사용해야 함.\n",
    "rdd.reduceByKey(lambda x, y : x + y).mapValues().collect()"
   ]
  },
  {
   "cell_type": "markdown",
   "metadata": {},
   "source": [
    "### mapValues() vs map()\n",
    "+ mapValues(): value에만 함수를 적용"
   ]
  },
  {
   "cell_type": "code",
   "execution_count": 129,
   "metadata": {},
   "outputs": [
    {
     "data": {
      "text/plain": [
       "[('a', 3), ('b', 1)]"
      ]
     },
     "execution_count": 129,
     "metadata": {},
     "output_type": "execute_result"
    }
   ],
   "source": [
    "# 리스트로부터 K-V RDD 객체 생성\n",
    "rdd = sc.parallelize([\n",
    "    ('a', ['apple', 'banana', 'lemon']),\n",
    "    ('b', ['grapes'])\n",
    "])"
   ]
  },
  {
   "cell_type": "code",
   "execution_count": 130,
   "metadata": {},
   "outputs": [
    {
     "data": {
      "text/plain": [
       "[('a', 3), ('b', 1)]"
      ]
     },
     "execution_count": 130,
     "metadata": {},
     "output_type": "execute_result"
    }
   ],
   "source": [
    "# mapValues(), len()를 이용하여 키 별 갯수 세기\n",
    "rdd.mapValues(lambda x, y: (x, len(y)))"
   ]
  },
  {
   "cell_type": "code",
   "execution_count": 128,
   "metadata": {},
   "outputs": [
    {
     "data": {
      "text/plain": [
       "[2, 2]"
      ]
     },
     "execution_count": 128,
     "metadata": {},
     "output_type": "execute_result"
    }
   ],
   "source": [
    "# map(): key, value 에 함수를 적용\n",
    "rdd.map(lambda)"
   ]
  },
  {
   "cell_type": "markdown",
   "metadata": {},
   "source": [
    "### countByKey()\n",
    "Key별 값 개수를 계산 및 딕셔너리로 반환하는 액션 메서드"
   ]
  },
  {
   "cell_type": "code",
   "execution_count": 140,
   "metadata": {},
   "outputs": [],
   "source": [
    "# countByKey()를 이용하여 Key별 값 개수 계산 및 반환 -> res\n",
    "rdd = sc.parallelize([\n",
    "    ('a', 1), ('b', 1), ('a', 1)\n",
    "])\n",
    "\n",
    "res = rdd.countByKey() # countByKey()에 collect 붙이지 않아도 됨 => action 이기 때문."
   ]
  },
  {
   "cell_type": "code",
   "execution_count": 141,
   "metadata": {},
   "outputs": [
    {
     "name": "stdout",
     "output_type": "stream",
     "text": [
      "defaultdict(<class 'int'>, {'a': 2, 'b': 1})\n"
     ]
    }
   ],
   "source": [
    "# countByKey() 결과 출력\n",
    "print(res)"
   ]
  },
  {
   "cell_type": "markdown",
   "metadata": {},
   "source": [
    "### keys()\n",
    "key 목록을 RDD로 생성하는 변환 메서드"
   ]
  },
  {
   "cell_type": "code",
   "execution_count": 143,
   "metadata": {},
   "outputs": [
    {
     "data": {
      "text/plain": [
       "['Math',\n",
       " 'Math',\n",
       " 'English',\n",
       " 'Science',\n",
       " 'English',\n",
       " 'English',\n",
       " 'Math',\n",
       " 'Math',\n",
       " 'English',\n",
       " 'Science',\n",
       " 'Science',\n",
       " 'Science']"
      ]
     },
     "execution_count": 143,
     "metadata": {},
     "output_type": "execute_result"
    }
   ],
   "source": [
    "# 과목 별 점수 데이터\n",
    "rdd = sc.parallelize([\n",
    "    ('Math', 7), ('Math', 2), ('English', 7),\n",
    "    ('Science', 7), ('English', 4), ('English', 9),\n",
    "    ('Math', 8), ('Math', 3), ('English', 4),\n",
    "    ('Science', 6), ('Science', 9), ('Science', 5)\n",
    "], 3)"
   ]
  },
  {
   "cell_type": "code",
   "execution_count": 144,
   "metadata": {},
   "outputs": [
    {
     "data": {
      "text/plain": [
       "['Math',\n",
       " 'Math',\n",
       " 'English',\n",
       " 'Science',\n",
       " 'English',\n",
       " 'English',\n",
       " 'Math',\n",
       " 'Math',\n",
       " 'English',\n",
       " 'Science',\n",
       " 'Science',\n",
       " 'Science']"
      ]
     },
     "execution_count": 144,
     "metadata": {},
     "output_type": "execute_result"
    }
   ],
   "source": [
    "# RDD 키 목록 생성 및 출력\n",
    "# rdd.keys() # 새로운 rdd를 만든 것.(transformation이다.) 그러므로 collect():action 메서드를 사용해야 출력이 된다.\n",
    "rdd.keys().collect()"
   ]
  },
  {
   "cell_type": "code",
   "execution_count": 145,
   "metadata": {},
   "outputs": [
    {
     "data": {
      "text/plain": [
       "['Science', 'Math', 'English']"
      ]
     },
     "execution_count": 145,
     "metadata": {},
     "output_type": "execute_result"
    }
   ],
   "source": [
    "# [+] 유니크한 키 값 출력\n",
    "rdd.keys().distinct().collect()"
   ]
  },
  {
   "cell_type": "code",
   "execution_count": 146,
   "metadata": {},
   "outputs": [
    {
     "data": {
      "text/plain": [
       "['Science', 'Math', 'English']"
      ]
     },
     "execution_count": 146,
     "metadata": {},
     "output_type": "execute_result"
    }
   ],
   "source": [
    "# [+] 유니크한 키 개수 출력\n",
    "rdd.keys().distinct().count()"
   ]
  },
  {
   "cell_type": "markdown",
   "metadata": {},
   "source": [
    "### Join 연산\n",
    "+ join(): 내부조인\n",
    "+ leftOuterJoin(): 외부조인(첫 번째 RDD 중심)\n",
    "+ rightOuterJoin(): 외부조인(두 번째 RDD 중심)"
   ]
  },
  {
   "cell_type": "code",
   "execution_count": 147,
   "metadata": {},
   "outputs": [],
   "source": [
    "# K-V RDD 객체 두 개 생성 \n",
    "rdd1 = sc.parallelize([(\"a\", 1), (\"b\", 4)])\n",
    "rdd2 = sc.parallelize([(\"a\", 2)])"
   ]
  },
  {
   "cell_type": "code",
   "execution_count": 148,
   "metadata": {},
   "outputs": [
    {
     "data": {
      "text/plain": [
       "[('a', (1, 2))]"
      ]
     },
     "execution_count": 148,
     "metadata": {},
     "output_type": "execute_result"
    }
   ],
   "source": [
    "# Join 연산\n",
    "# narrow, wide transformation => join은 wide transformation이라 performance가 떨어질 수 있다.\n",
    "rdd1.join(rdd2).collect()"
   ]
  },
  {
   "cell_type": "code",
   "execution_count": 149,
   "metadata": {},
   "outputs": [
    {
     "data": {
      "text/plain": [
       "[('b', (4, None)), ('a', (1, 2))]"
      ]
     },
     "execution_count": 149,
     "metadata": {},
     "output_type": "execute_result"
    }
   ],
   "source": [
    "# Left Outer Join 연산\n",
    "rdd1.leftOuterJoin(rdd2).collect()"
   ]
  },
  {
   "cell_type": "code",
   "execution_count": 150,
   "metadata": {},
   "outputs": [
    {
     "data": {
      "text/plain": [
       "[('a', (1, 2))]"
      ]
     },
     "execution_count": 150,
     "metadata": {},
     "output_type": "execute_result"
    }
   ],
   "source": [
    "# Right Outer Join 연산\n",
    "rdd1.rightOuterJoin(rdd2).collect()"
   ]
  }
 ],
 "metadata": {
  "kernelspec": {
   "display_name": "Python 3",
   "language": "python",
   "name": "python3"
  },
  "language_info": {
   "codemirror_mode": {
    "name": "ipython",
    "version": 3
   },
   "file_extension": ".py",
   "mimetype": "text/x-python",
   "name": "python",
   "nbconvert_exporter": "python",
   "pygments_lexer": "ipython3",
   "version": "3.9.13"
  }
 },
 "nbformat": 4,
 "nbformat_minor": 4
}
